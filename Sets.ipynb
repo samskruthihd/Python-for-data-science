{
  "metadata": {
    "kernelspec": {
      "name": "python",
      "display_name": "Pyolite",
      "language": "python"
    },
    "language_info": {
      "codemirror_mode": {
        "name": "python",
        "version": 3
      },
      "file_extension": ".py",
      "mimetype": "text/x-python",
      "name": "python",
      "nbconvert_exporter": "python",
      "pygments_lexer": "ipython3",
      "version": "3.8"
    }
  },
  "nbformat_minor": 4,
  "nbformat": 4,
  "cells": [
    {
      "cell_type": "markdown",
      "source": "<h2 id=\"set\">Sets</h2>\n",
      "metadata": {}
    },
    {
      "cell_type": "markdown",
      "source": "A set is a unique collection of objects in Python. You can denote a set with a pair of curly brackets <b>{}</b>. Python will automatically remove duplicate items:\n",
      "metadata": {}
    },
    {
      "cell_type": "code",
      "source": "# Create a set\n\nset1 = {\"pop\", \"rock\", \"soul\", \"hard rock\", \"rock\", \"R&B\", \"rock\", \"disco\"}\nset1",
      "metadata": {},
      "execution_count": null,
      "outputs": []
    },
    {
      "cell_type": "markdown",
      "source": "You can also  create a set from a list as follows:\n",
      "metadata": {}
    },
    {
      "cell_type": "code",
      "source": "# Convert list to set\n\nalbum_list = [ \"Michael Jackson\", \"Thriller\", 1982, \"00:42:19\", \\\n              \"Pop, Rock, R&B\", 46.0, 65, \"30-Nov-82\", None, 10.0]\nalbum_set = set(album_list)             \nalbum_set",
      "metadata": {
        "scrolled": true,
        "trusted": true
      },
      "execution_count": 1,
      "outputs": [
        {
          "execution_count": 1,
          "output_type": "execute_result",
          "data": {
            "text/plain": "{'00:42:19',\n 10.0,\n 1982,\n '30-Nov-82',\n 46.0,\n 65,\n 'Michael Jackson',\n None,\n 'Pop, Rock, R&B',\n 'Thriller'}"
          },
          "metadata": {}
        }
      ]
    },
    {
      "cell_type": "markdown",
      "source": "Now let us create a set of  genres:\n",
      "metadata": {}
    },
    {
      "cell_type": "code",
      "source": "# Convert list to set\n\nmusic_genres = set([\"pop\", \"pop\", \"rock\", \"folk rock\", \"hard rock\", \"soul\", \\\n                    \"progressive rock\", \"soft rock\", \"R&B\", \"disco\"])\nmusic_genres",
      "metadata": {
        "trusted": true
      },
      "execution_count": 2,
      "outputs": [
        {
          "execution_count": 2,
          "output_type": "execute_result",
          "data": {
            "text/plain": "{'R&B',\n 'disco',\n 'folk rock',\n 'hard rock',\n 'pop',\n 'progressive rock',\n 'rock',\n 'soft rock',\n 'soul'}"
          },
          "metadata": {}
        }
      ]
    },
    {
      "cell_type": "markdown",
      "source": "<h3 id=\"op\">Set Operations</h3> \n",
      "metadata": {}
    },
    {
      "cell_type": "markdown",
      "source": "Let us go over set operations, as these can be used to change the set. Consider the set <b>A</b>:\n",
      "metadata": {}
    },
    {
      "cell_type": "code",
      "source": "# Sample set\n\nA = set([\"Thriller\", \"Back in Black\", \"AC/DC\"])\nA",
      "metadata": {
        "trusted": true
      },
      "execution_count": 3,
      "outputs": [
        {
          "execution_count": 3,
          "output_type": "execute_result",
          "data": {
            "text/plain": "{'AC/DC', 'Back in Black', 'Thriller'}"
          },
          "metadata": {}
        }
      ]
    },
    {
      "cell_type": "markdown",
      "source": "We can add an element to a set using the <code>add()</code> method:\n",
      "metadata": {}
    },
    {
      "cell_type": "code",
      "source": "# Add element to set\n\nA.add(\"NSYNC\")\nA",
      "metadata": {
        "trusted": true
      },
      "execution_count": 4,
      "outputs": [
        {
          "execution_count": 4,
          "output_type": "execute_result",
          "data": {
            "text/plain": "{'AC/DC', 'Back in Black', 'NSYNC', 'Thriller'}"
          },
          "metadata": {}
        }
      ]
    },
    {
      "cell_type": "markdown",
      "source": "If we add the same element twice, nothing will happen as there can be no duplicates in a set:\n",
      "metadata": {}
    },
    {
      "cell_type": "code",
      "source": "# Try to add duplicate element to the set\n\nA.add(\"NSYNC\")\nA",
      "metadata": {
        "trusted": true
      },
      "execution_count": 5,
      "outputs": [
        {
          "execution_count": 5,
          "output_type": "execute_result",
          "data": {
            "text/plain": "{'AC/DC', 'Back in Black', 'NSYNC', 'Thriller'}"
          },
          "metadata": {}
        }
      ]
    },
    {
      "cell_type": "markdown",
      "source": "We can remove an item from a set using the <code>remove</code> method:\n",
      "metadata": {}
    },
    {
      "cell_type": "code",
      "source": "# Remove the element from set\n\nA.remove(\"NSYNC\")\nA",
      "metadata": {
        "trusted": true
      },
      "execution_count": 6,
      "outputs": [
        {
          "execution_count": 6,
          "output_type": "execute_result",
          "data": {
            "text/plain": "{'AC/DC', 'Back in Black', 'Thriller'}"
          },
          "metadata": {}
        }
      ]
    },
    {
      "cell_type": "markdown",
      "source": "We can verify if an element is in the set using the <code>in</code> command:\n",
      "metadata": {}
    },
    {
      "cell_type": "code",
      "source": "# Verify if the element is in the set\n\n\"AC/DC\" in A",
      "metadata": {
        "trusted": true
      },
      "execution_count": 7,
      "outputs": [
        {
          "execution_count": 7,
          "output_type": "execute_result",
          "data": {
            "text/plain": "True"
          },
          "metadata": {}
        }
      ]
    },
    {
      "cell_type": "markdown",
      "source": "<h3 id=\"logic\">Sets Logic Operations</h3>\n",
      "metadata": {}
    },
    {
      "cell_type": "markdown",
      "source": "Remember that with sets you can check the difference between sets, as well as the symmetric difference, intersection, and union:\n",
      "metadata": {}
    },
    {
      "cell_type": "markdown",
      "source": "Consider the following two sets:\n",
      "metadata": {}
    },
    {
      "cell_type": "code",
      "source": "# Sample Sets\n\nalbum_set1 = set([\"Thriller\", 'AC/DC', 'Back in Black'])\nalbum_set2 = set([ \"AC/DC\", \"Back in Black\", \"The Dark Side of the Moon\"])",
      "metadata": {
        "trusted": true
      },
      "execution_count": 8,
      "outputs": []
    },
    {
      "cell_type": "code",
      "source": "# Print two sets\n\nalbum_set1, album_set2",
      "metadata": {
        "scrolled": true,
        "trusted": true
      },
      "execution_count": 9,
      "outputs": [
        {
          "execution_count": 9,
          "output_type": "execute_result",
          "data": {
            "text/plain": "({'AC/DC', 'Back in Black', 'Thriller'},\n {'AC/DC', 'Back in Black', 'The Dark Side of the Moon'})"
          },
          "metadata": {}
        }
      ]
    },
    {
      "cell_type": "markdown",
      "source": "You can find the intersect of two sets as follow using <code>&</code>:\n",
      "metadata": {}
    },
    {
      "cell_type": "code",
      "source": "# Find the intersections\n\nintersection = album_set1 & album_set2\nintersection",
      "metadata": {
        "trusted": true
      },
      "execution_count": 10,
      "outputs": [
        {
          "execution_count": 10,
          "output_type": "execute_result",
          "data": {
            "text/plain": "{'AC/DC', 'Back in Black'}"
          },
          "metadata": {}
        }
      ]
    },
    {
      "cell_type": "markdown",
      "source": "You can find all the elements that are only contained in <code>album_set1</code> using the <code>difference</code> method:\n",
      "metadata": {}
    },
    {
      "cell_type": "code",
      "source": "# Find the difference in set1 but not set2\n\nalbum_set1.difference(album_set2)  ",
      "metadata": {
        "trusted": true
      },
      "execution_count": 11,
      "outputs": [
        {
          "execution_count": 11,
          "output_type": "execute_result",
          "data": {
            "text/plain": "{'Thriller'}"
          },
          "metadata": {}
        }
      ]
    },
    {
      "cell_type": "markdown",
      "source": "The elements in <code>album_set2</code> but not in <code>album_set1</code> is given by:\n",
      "metadata": {}
    },
    {
      "cell_type": "code",
      "source": "album_set2.difference(album_set1)  ",
      "metadata": {
        "trusted": true
      },
      "execution_count": 12,
      "outputs": [
        {
          "execution_count": 12,
          "output_type": "execute_result",
          "data": {
            "text/plain": "{'The Dark Side of the Moon'}"
          },
          "metadata": {}
        }
      ]
    },
    {
      "cell_type": "markdown",
      "source": "You can also find the intersection of <code>album_list1</code> and <code>album_list2</code>, using the <code>intersection</code> method:\n",
      "metadata": {}
    },
    {
      "cell_type": "code",
      "source": "# Use intersection method to find the intersection of album_list1 and album_list2\n\nalbum_set1.intersection(album_set2)   ",
      "metadata": {
        "trusted": true
      },
      "execution_count": 13,
      "outputs": [
        {
          "execution_count": 13,
          "output_type": "execute_result",
          "data": {
            "text/plain": "{'AC/DC', 'Back in Black'}"
          },
          "metadata": {}
        }
      ]
    },
    {
      "cell_type": "markdown",
      "source": "The union is given by:\n",
      "metadata": {}
    },
    {
      "cell_type": "code",
      "source": "# Find the union of two sets\n\nalbum_set1.union(album_set2)",
      "metadata": {
        "tags": [],
        "trusted": true
      },
      "execution_count": 14,
      "outputs": [
        {
          "execution_count": 14,
          "output_type": "execute_result",
          "data": {
            "text/plain": "{'AC/DC', 'Back in Black', 'The Dark Side of the Moon', 'Thriller'}"
          },
          "metadata": {}
        }
      ]
    },
    {
      "cell_type": "markdown",
      "source": "And you can check if a set is a superset or subset of another set, respectively, like this:\n",
      "metadata": {}
    },
    {
      "cell_type": "code",
      "source": "# Check if superset\n\nset(album_set1).issuperset(album_set2)   ",
      "metadata": {
        "trusted": true
      },
      "execution_count": 15,
      "outputs": [
        {
          "execution_count": 15,
          "output_type": "execute_result",
          "data": {
            "text/plain": "False"
          },
          "metadata": {}
        }
      ]
    },
    {
      "cell_type": "code",
      "source": "# Check if subset\n\nset(album_set2).issubset(album_set1)     ",
      "metadata": {
        "trusted": true
      },
      "execution_count": 18,
      "outputs": [
        {
          "execution_count": 18,
          "output_type": "execute_result",
          "data": {
            "text/plain": "False"
          },
          "metadata": {}
        }
      ]
    },
    {
      "cell_type": "markdown",
      "source": "Here is an example where <code>issubset()</code> and <code>issuperset()</code> return true:\n",
      "metadata": {}
    },
    {
      "cell_type": "code",
      "source": "# Check if subset\n\nset({\"Back in Black\", \"AC/DC\"}).issubset(album_set1) ",
      "metadata": {
        "trusted": true
      },
      "execution_count": 16,
      "outputs": [
        {
          "execution_count": 16,
          "output_type": "execute_result",
          "data": {
            "text/plain": "True"
          },
          "metadata": {}
        }
      ]
    },
    {
      "cell_type": "code",
      "source": "# Check if superset\n\nalbum_set1.issuperset({\"Back in Black\", \"AC/DC\"})   ",
      "metadata": {
        "trusted": true
      },
      "execution_count": 17,
      "outputs": [
        {
          "execution_count": 17,
          "output_type": "execute_result",
          "data": {
            "text/plain": "True"
          },
          "metadata": {}
        }
      ]
    },
    {
      "cell_type": "markdown",
      "source": "Convert the list <code>\\['rap','house','electronic music', 'rap']</code> to a set:\n",
      "metadata": {}
    },
    {
      "cell_type": "code",
      "source": "# Write your code below and press Shift+Enter to execute\nset(['rap','house','electronic music', 'rap'])",
      "metadata": {
        "trusted": true
      },
      "execution_count": 19,
      "outputs": [
        {
          "execution_count": 19,
          "output_type": "execute_result",
          "data": {
            "text/plain": "{'electronic music', 'house', 'rap'}"
          },
          "metadata": {}
        }
      ]
    },
    {
      "cell_type": "markdown",
      "source": "Consider the list <code>A = \\[1, 2, 2, 1]</code> and set <code>B = set(\\[1, 2, 2, 1])</code>, does <code>sum(A) == sum(B)</code>?\n",
      "metadata": {}
    },
    {
      "cell_type": "code",
      "source": "# Write your code below and press Shift+Enter to execute\nA = [1, 2, 2, 1] \nB = set([1, 2, 2, 1])\nprint(sum(A))\nprint(sum(B))",
      "metadata": {
        "trusted": true
      },
      "execution_count": 22,
      "outputs": [
        {
          "name": "stdout",
          "text": "6\n3\n",
          "output_type": "stream"
        }
      ]
    },
    {
      "cell_type": "markdown",
      "source": "Create a new set <code>album_set3</code> that is the union of <code>album_set1</code> and <code>album_set2</code>:\n",
      "metadata": {}
    },
    {
      "cell_type": "code",
      "source": "# Write your code below and press Shift+Enter to execute\n\nalbum_set1 = set([\"Thriller\", 'AC/DC', 'Back in Black'])\nalbum_set2 = set([ \"AC/DC\", \"Back in Black\", \"The Dark Side of the Moon\"])\nalbum_set3=album_set1.union(album_set2)\nalbum_set3",
      "metadata": {
        "trusted": true
      },
      "execution_count": 23,
      "outputs": [
        {
          "execution_count": 23,
          "output_type": "execute_result",
          "data": {
            "text/plain": "{'AC/DC', 'Back in Black', 'The Dark Side of the Moon', 'Thriller'}"
          },
          "metadata": {}
        }
      ]
    },
    {
      "cell_type": "markdown",
      "source": "Find out if <code>album_set1</code> is a subset of <code>album_set3</code>:\n",
      "metadata": {}
    },
    {
      "cell_type": "code",
      "source": "# Write your code below and press Shift+Enter to execute\nset(album_set1).issubset(album_set3)",
      "metadata": {
        "trusted": true
      },
      "execution_count": 25,
      "outputs": [
        {
          "execution_count": 25,
          "output_type": "execute_result",
          "data": {
            "text/plain": "True"
          },
          "metadata": {}
        }
      ]
    }
  ]
}